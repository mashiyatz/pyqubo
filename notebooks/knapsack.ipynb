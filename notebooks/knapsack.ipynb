{
 "cells": [
  {
   "cell_type": "code",
   "execution_count": 1,
   "metadata": {},
   "outputs": [],
   "source": [
    "import pyqubo\n",
    "import numpy as np\n",
    "from pyqubo import Array, Placeholder, Spin, solve_qubo, Constraint, OneHotEncInteger"
   ]
  },
  {
   "cell_type": "markdown",
   "metadata": {},
   "source": [
    "# Knapsack Problem with Integer Weights"
   ]
  },
  {
   "cell_type": "markdown",
   "metadata": {},
   "source": [
    "We have N objects, each with an integer weight and price, that we want to put inside a knapsack that can only carry weight **W**. We want to maximize the total cost of the items we collect while subject to the weight constraint. The total weight in the knapsack _W_ can be represented as\n",
    "\n",
    "$$\n",
    "W = \\sum_{\\alpha = 1}^{N} w_{\\alpha}x_{\\alpha},\n",
    "$$\n",
    "\n",
    "and its total cost _C_ as \n",
    "\n",
    "$$\n",
    "C = \\sum_{\\alpha = 1}^{N} c_{\\alpha}x_{\\alpha},\n",
    "$$\n",
    "\n",
    "where $x_{a}$ determines whether or not object $\\alpha$ is in the knapsack. The solution takes the form $\\lambda H_{A} + H_{B}$. We define $H_{A}$ as\n",
    "\n",
    "$$\n",
    "H_{A} = \\left(1-\\sum_{n = 1}^{W} y_{n} \\right)^2\n",
    "+ \\left (\\sum_{n = 1}^{W} n y_{n} - \\sum_{\\alpha} w_{\\alpha} x_{\\alpha} \\right)^2,\n",
    "$$\n",
    "\n",
    "where $y_{n}$ represents a binary that is 1 if the final weight is $n$, and 0 otherwise, and $H_{B}$ as\n",
    "\n",
    "$$\n",
    "H_{B} = \\sum_{\\alpha} c_{\\alpha} x_{\\alpha}.\n",
    "$$"
   ]
  },
  {
   "cell_type": "code",
   "execution_count": 2,
   "metadata": {},
   "outputs": [
    {
     "ename": "NameError",
     "evalue": "name 'items' is not defined",
     "output_type": "error",
     "traceback": [
      "\u001b[0;31m---------------------------------------------------------------------------\u001b[0m",
      "\u001b[0;31mNameError\u001b[0m                                 Traceback (most recent call last)",
      "\u001b[0;32m<ipython-input-2-8b0e243b9700>\u001b[0m in \u001b[0;36m<module>\u001b[0;34m\u001b[0m\n\u001b[1;32m      3\u001b[0m \u001b[0mmax_weight\u001b[0m \u001b[0;34m=\u001b[0m \u001b[0;36m10\u001b[0m\u001b[0;34m\u001b[0m\u001b[0;34m\u001b[0m\u001b[0m\n\u001b[1;32m      4\u001b[0m \u001b[0;34m\u001b[0m\u001b[0m\n\u001b[0;32m----> 5\u001b[0;31m \u001b[0mknapsack_weight\u001b[0m \u001b[0;34m=\u001b[0m \u001b[0msum\u001b[0m\u001b[0;34m(\u001b[0m\u001b[0mweights\u001b[0m\u001b[0;34m[\u001b[0m\u001b[0mi\u001b[0m\u001b[0;34m]\u001b[0m \u001b[0;34m*\u001b[0m \u001b[0mitems\u001b[0m\u001b[0;34m[\u001b[0m\u001b[0mi\u001b[0m\u001b[0;34m]\u001b[0m \u001b[0;32mfor\u001b[0m \u001b[0mi\u001b[0m \u001b[0;32min\u001b[0m \u001b[0mrange\u001b[0m\u001b[0;34m(\u001b[0m\u001b[0mlen\u001b[0m\u001b[0;34m(\u001b[0m\u001b[0mitems\u001b[0m\u001b[0;34m)\u001b[0m\u001b[0;34m)\u001b[0m\u001b[0;34m)\u001b[0m\u001b[0;34m\u001b[0m\u001b[0;34m\u001b[0m\u001b[0m\n\u001b[0m\u001b[1;32m      6\u001b[0m \u001b[0mknapsack_value\u001b[0m \u001b[0;34m=\u001b[0m \u001b[0msum\u001b[0m\u001b[0;34m(\u001b[0m\u001b[0mvalues\u001b[0m\u001b[0;34m[\u001b[0m\u001b[0mi\u001b[0m\u001b[0;34m]\u001b[0m \u001b[0;34m*\u001b[0m \u001b[0mitems\u001b[0m\u001b[0;34m[\u001b[0m\u001b[0mi\u001b[0m\u001b[0;34m]\u001b[0m \u001b[0;32mfor\u001b[0m \u001b[0mi\u001b[0m \u001b[0;32min\u001b[0m \u001b[0mrange\u001b[0m\u001b[0;34m(\u001b[0m\u001b[0mlen\u001b[0m\u001b[0;34m(\u001b[0m\u001b[0mitems\u001b[0m\u001b[0;34m)\u001b[0m\u001b[0;34m)\u001b[0m\u001b[0;34m)\u001b[0m\u001b[0;34m\u001b[0m\u001b[0;34m\u001b[0m\u001b[0m\n\u001b[1;32m      7\u001b[0m \u001b[0;34m\u001b[0m\u001b[0m\n",
      "\u001b[0;31mNameError\u001b[0m: name 'items' is not defined"
     ]
    }
   ],
   "source": [
    "weights = [1, 3, 7, 9] \n",
    "values = [10, 2, 3, 6] \n",
    "max_weight = 10\n",
    "\n",
    "knapsack_weight = sum(weights[i] * items[i] for i in range(len(items)))\n",
    "knapsack_value = sum(values[i] * items[i] for i in range(len(items)))\n",
    "\n",
    "lmd = Placeholder(\"lambda\")\n",
    "\n",
    "weight_one_hot = OneHotEncInteger(\"weight_one_hot\", 1, max_weight, strength=lmd)\n",
    "Ha = Constraint((weight_one_hot - knapsack_weight)**2, \"weight_constraint\")\n",
    "Hb = knapsack_value\n",
    "H = Ha - Hb\n",
    "\n",
    "model = H.compile()\n",
    "steps = 15\n",
    "feed_dict = {'lambda': 1.0}\n",
    "for i in range(steps):\n",
    "    qubo, offset = model.to_qubo(feed_dict=feed_dict)\n",
    "    sol = solve_qubo(qubo)\n",
    "    solution, broken, energy = model.decode_solution(sol, vartype=\"BINARY\", feed_dict=feed_dict)\n",
    "    if not broken:\n",
    "        break\n",
    "    else: \n",
    "        feed_dict['lambda'] *= 1.2"
   ]
  },
  {
   "cell_type": "code",
   "execution_count": null,
   "metadata": {},
   "outputs": [],
   "source": []
  }
 ],
 "metadata": {
  "kernelspec": {
   "display_name": "Python 3",
   "language": "python",
   "name": "python3"
  },
  "language_info": {
   "codemirror_mode": {
    "name": "ipython",
    "version": 3
   },
   "file_extension": ".py",
   "mimetype": "text/x-python",
   "name": "python",
   "nbconvert_exporter": "python",
   "pygments_lexer": "ipython3",
   "version": "3.7.2"
  }
 },
 "nbformat": 4,
 "nbformat_minor": 4
}
